{
 "cells": [
  {
   "cell_type": "markdown",
   "source": [
    "# MATH50003 (2022–23)\n",
    "# Lab 5: III.1 Structured Matrices and III.2 Differential Equations"
   ],
   "metadata": {}
  },
  {
   "cell_type": "markdown",
   "source": [
    "In this lab we explore the construction of vectors and matrices, in particular those with sparsity structure\n",
    "such as triangular, diagonal, bidiagonal and tridiagonal\n",
    "which we capture using special types. We also explore the reduction of differential equations to\n",
    "banded linear systems via divided differences. When we get lower bidiagonal systems these can be solved\n",
    "using forward substitution, whereas we will discuss the tridiagonal case later."
   ],
   "metadata": {}
  },
  {
   "cell_type": "markdown",
   "source": [
    "We first load  packages we need including a couple new ones:"
   ],
   "metadata": {}
  },
  {
   "outputs": [],
   "cell_type": "code",
   "source": [
    "# LinearAlgebra contains routines for doing linear algebra\n",
    "# BenchmarkTools is a package for reliable timing\n",
    "using LinearAlgebra, Plots, Test"
   ],
   "metadata": {},
   "execution_count": null
  },
  {
   "cell_type": "markdown",
   "source": [
    "**Remark** One should normally not need to implement methods for solving differential equations\n",
    "oneself as there are packages available, including the high-performance\n",
    " Julia package  [DifferentialEquations.jl](https://github.com/SciML/DifferentialEquations.jl). Moreover Forward and Backward\n",
    "Euler are only the first baby steps to a wide range of time-steppers, with Runge–Kutta being\n",
    "one of the most successful.\n",
    "For example we can solve\n",
    "a simple differential equation like a pendulum $u'' = -\\sin u$ can be solved\n",
    "as follows (writing at a system $u' = v, v' = -\\sin u$):"
   ],
   "metadata": {}
  },
  {
   "outputs": [],
   "cell_type": "code",
   "source": [
    "using DifferentialEquations, LinearAlgebra, Plots\n",
    "\n",
    "u = solve(ODEProblem((u,_,x) -> [u[2], -sin(u[1])], [1,0], (0,10)))\n",
    "plot(u)"
   ],
   "metadata": {},
   "execution_count": null
  },
  {
   "cell_type": "markdown",
   "source": [
    "However, even in these automated packages one has a choice of different methods with\n",
    "different behaviour, so it is important to understand on a mathematical level what is happening under the hood."
   ],
   "metadata": {}
  },
  {
   "cell_type": "markdown",
   "source": [
    "**Learning Outcomes**\n",
    "\n",
    "Mathematical knowledge:\n",
    "\n",
    "1. Matrix multiplication, back-substitution and forward-elimnation\n",
    "2. Banded matrices and their utilisation for better complexity linear algebra.\n",
    "2. Reduction of differential equations to bidiagonal or tridiagonal linear systems\n",
    "3. Two-point boundary value problems\n",
    "\n",
    "Coding knowledge:\n",
    "\n",
    "1. Construction of a dense `Vector` or `Matrix` either directly or via comprehensions or broadcasting\n",
    "2. The `vec`, `transpose`, `zeros`, `ones`, `fill`, `promote_type`, and `eltype` functions.\n",
    "3. Using `\\` to solve linear systems."
   ],
   "metadata": {}
  },
  {
   "cell_type": "markdown",
   "source": [
    "## III.1 Structured Matrices"
   ],
   "metadata": {}
  },
  {
   "cell_type": "markdown",
   "source": [
    "Before discussing structured matrices we give an overview of creating arrays  (vectors and matrices)\n",
    "in Julia."
   ],
   "metadata": {}
  },
  {
   "cell_type": "markdown",
   "source": [
    "### III.1.1 Dense matrices"
   ],
   "metadata": {}
  },
  {
   "cell_type": "markdown",
   "source": [
    "One can create arrays in multiple ways. For example, the function `zeros(Int, 10)` creates\n",
    "a 10-element `Vector` whose entries are all `zero(Int) == 0`. Or `fill(x, 10)` creates a\n",
    "10-element `Vector` whose entries are all equal to `x`. Or you can use a comprehension:\n",
    "for example `[k^2 for k = 1:10]` creates a vector whose entries are `[1^2, 2^2, …, 10^2]`.\n",
    "This also works for matrices: `zeros(Int, 10, 5)` creates a 10 × 5 matrix of all zeros,\n",
    "and `[k^2 + j for k=1:3, j=1:4]` creates the following:"
   ],
   "metadata": {}
  },
  {
   "outputs": [],
   "cell_type": "code",
   "source": [
    "[k^2 + j for k=1:3, j=1:4] # k is the row, j is the column"
   ],
   "metadata": {},
   "execution_count": null
  },
  {
   "cell_type": "markdown",
   "source": [
    "Note sometimes it is best to create a vector/matrix and populate it. For example, the\n",
    "previous matrix could also been constructed as follows:"
   ],
   "metadata": {}
  },
  {
   "outputs": [],
   "cell_type": "code",
   "source": [
    "A = zeros(Int, 3, 4) # create a 3 × 4 matrix whose entries are `Int`\n",
    "for k = 1:3, j = 1:4\n",
    "    A[k,j] = k^2 + j # set the entries of A\n",
    "end\n",
    "A"
   ],
   "metadata": {},
   "execution_count": null
  },
  {
   "cell_type": "markdown",
   "source": [
    "**Remark** Julia uses 0-based indexing where the first index of a vector/matrix\n",
    "is 1. This is standard in all mathematical programming languages (Fortran, Maple, Matlab, Mathematica)\n",
    "whereas those designed for computer science use 0-based indexing (C, Python, Rust)."
   ],
   "metadata": {}
  },
  {
   "cell_type": "markdown",
   "source": [
    "Be careful: a `Matrix` or `Vector` can only ever contain entries of the right\n",
    "type. It will attempt to convert an assignment to the right type but will throw\n",
    "an error if not successful:"
   ],
   "metadata": {}
  },
  {
   "outputs": [],
   "cell_type": "code",
   "source": [
    "A[2,3] = 2.0 # works because 2.0 is a Float64 that is exactly equal to an Int\n",
    "A[1,2] = 2.3 # fails since 2.3 is a Float64 that cannot be converted to an Int"
   ],
   "metadata": {},
   "execution_count": null
  },
  {
   "cell_type": "markdown",
   "source": [
    "------\n",
    "**Problem 1(a)** Create a 5×6 matrix whose entries are `Int` which is\n",
    "one in all entries. Hint: use a for-loop, `ones`, `fill`, or a comprehension."
   ],
   "metadata": {}
  },
  {
   "outputs": [],
   "cell_type": "code",
   "source": [
    "# TODO: Create a matrix of ones, 4 different ways"
   ],
   "metadata": {},
   "execution_count": null
  },
  {
   "cell_type": "markdown",
   "source": [
    "**Problem 1(b)** Create a 1 × 5 `Matrix{Int}` with entries `A[k,j] = j`. Hint: use a for-loop or a comprehension."
   ],
   "metadata": {}
  },
  {
   "outputs": [],
   "cell_type": "code",
   "source": [
    "# TODO: Create a 1 × 5  matrix whose entries equal the column, 2 different ways"
   ],
   "metadata": {},
   "execution_count": null
  },
  {
   "cell_type": "markdown",
   "source": [
    "-------\n",
    "#### Transposes and adjoints"
   ],
   "metadata": {}
  },
  {
   "cell_type": "markdown",
   "source": [
    "We can also transpose a matrix `A`, This is done lazily\n",
    "and so `transpose(A)` (which is equivalent to the adjoint/conjugate-transpose\n",
    "`A'` when the entries are real),\n",
    "is just a special type with a single field: `transpose(A).parent == A`.\n",
    "This is equivalent to\n",
    "_row-major_ format, where the next address in memory of `transpose(A)` corresponds to\n",
    "moving along the row."
   ],
   "metadata": {}
  },
  {
   "cell_type": "markdown",
   "source": [
    "#### Broadcasting"
   ],
   "metadata": {}
  },
  {
   "cell_type": "markdown",
   "source": [
    "_Broadcasting_ is a powerful and convenient way to create matrices or vectors,\n",
    "where a function is applied to every entry of a vector or matrix.\n",
    "By adding `.` to the end of a function we \"broadcast\" the function over\n",
    "a vector:"
   ],
   "metadata": {}
  },
  {
   "outputs": [],
   "cell_type": "code",
   "source": [
    "x = [1,2,3]\n",
    "cos.(x) # equivalent to [cos(1), cos(2), cos(3)], or can be written broadcast(cos, x)"
   ],
   "metadata": {},
   "execution_count": null
  },
  {
   "cell_type": "markdown",
   "source": [
    "Broadcasting has some interesting behaviour for matrices.\n",
    "If one dimension of a matrix (or vector) is 1, it automatically\n",
    "repeats the matrix (or vector) to match the size of another example.\n",
    "In the following we use broadcasting to pointwise-multiply a column and row\n",
    "vector to make a matrix:"
   ],
   "metadata": {}
  },
  {
   "outputs": [],
   "cell_type": "code",
   "source": [
    "[1,2,3] .* [4,5]'"
   ],
   "metadata": {},
   "execution_count": null
  },
  {
   "cell_type": "markdown",
   "source": [
    "Since `size([1,2,3],2) == 1` it repeats the same vector to match the size\n",
    "`size([4,5]',2) == 2`. Similarly, `[4,5]'` is repeated 3 times. So the\n",
    "above is equivalent to:"
   ],
   "metadata": {}
  },
  {
   "outputs": [],
   "cell_type": "code",
   "source": [
    "[1 1; 2 2; 3 3] .* [4 5; 4 5; 4 5]"
   ],
   "metadata": {},
   "execution_count": null
  },
  {
   "cell_type": "markdown",
   "source": [
    "Note we can also use matrix broadcasting with our own functions:"
   ],
   "metadata": {}
  },
  {
   "outputs": [],
   "cell_type": "code",
   "source": [
    "f = (x,y) -> cos(x + 2y)\n",
    "f.([1,2,3], [4,5]') # makes a matrix with entries [f(1,4) f(1,5); f(2,4) f(2,5); f(3,4) f(3.5)]"
   ],
   "metadata": {},
   "execution_count": null
  },
  {
   "cell_type": "markdown",
   "source": [
    "#### Ranges"
   ],
   "metadata": {}
  },
  {
   "cell_type": "markdown",
   "source": [
    "_Ranges_ are another useful example of vectors.\n",
    "We have already seen that we can represent a range of integers via `a:b`. Note we can\n",
    "convert it to a `Vector` as follows:"
   ],
   "metadata": {}
  },
  {
   "outputs": [],
   "cell_type": "code",
   "source": [
    "Vector(2:6)"
   ],
   "metadata": {},
   "execution_count": null
  },
  {
   "cell_type": "markdown",
   "source": [
    "We can also specify a step:"
   ],
   "metadata": {}
  },
  {
   "outputs": [],
   "cell_type": "code",
   "source": [
    "Vector(2:2:6), Vector(6:-1:2)"
   ],
   "metadata": {},
   "execution_count": null
  },
  {
   "cell_type": "markdown",
   "source": [
    "Finally, the `range` function gives more functionality, for example, we can create 4 evenly\n",
    "spaced points between `-1` and `1`:"
   ],
   "metadata": {}
  },
  {
   "outputs": [],
   "cell_type": "code",
   "source": [
    "Vector(range(-1, 1; length=4))"
   ],
   "metadata": {},
   "execution_count": null
  },
  {
   "cell_type": "markdown",
   "source": [
    "Note that `Vector` is mutable but a range is not:"
   ],
   "metadata": {}
  },
  {
   "outputs": [],
   "cell_type": "code",
   "source": [
    "r = 2:6\n",
    "r[2] = 3   # Not allowed"
   ],
   "metadata": {},
   "execution_count": null
  },
  {
   "cell_type": "markdown",
   "source": [
    "Both ranges `Vector` are subtypes of `AbstractVector`, whilst `Matrix` is a subtype of `AbstractMatrix`."
   ],
   "metadata": {}
  },
  {
   "cell_type": "markdown",
   "source": [
    "-----"
   ],
   "metadata": {}
  },
  {
   "cell_type": "markdown",
   "source": [
    "**Problem 1(c)** Create a vector of length 5 whose entries are `Float64`\n",
    "approximations of `exp(-k)`. Hint: use a for-loop, broadcasting `f.(x)` notation, or a comprehension."
   ],
   "metadata": {}
  },
  {
   "outputs": [],
   "cell_type": "code",
   "source": [
    "# TODO: Create a vector whose entries are exp(-k), 3 different ways"
   ],
   "metadata": {},
   "execution_count": null
  },
  {
   "cell_type": "markdown",
   "source": [
    "------\n",
    "#### Storage of matrices and vectors"
   ],
   "metadata": {}
  },
  {
   "cell_type": "markdown",
   "source": [
    "A `Vector` stores its entries consecutively in memory.\n",
    "To be perhaps overly technical: a `Vector` contains a \"pointer\" (an integer)\n",
    "to the first memory address and a length. A `Matrix` is also stored consecutively in memory\n",
    " going down column-by-\n",
    "column (_column-major_). That is,"
   ],
   "metadata": {}
  },
  {
   "outputs": [],
   "cell_type": "code",
   "source": [
    "A = [1 2;\n",
    "     3 4;\n",
    "     5 6]"
   ],
   "metadata": {},
   "execution_count": null
  },
  {
   "cell_type": "markdown",
   "source": [
    "Is actually stored equivalently to a length `6` vector `[A[1,1],A[2,1],A[3,1],A[1,2],A[2,2],A[3,2]]`:"
   ],
   "metadata": {}
  },
  {
   "outputs": [],
   "cell_type": "code",
   "source": [
    "vec(A)"
   ],
   "metadata": {},
   "execution_count": null
  },
  {
   "cell_type": "markdown",
   "source": [
    "which in this case would be stored using `8 * 6 = 48` consecutive bytes.\n",
    "Behind the scenes, a matrix is also \"pointer\" to the location of the first entry alongside two integers\n",
    "dictating the row and column sizes."
   ],
   "metadata": {}
  },
  {
   "cell_type": "markdown",
   "source": [
    "Matrix-vector multiplication works as expected because `*` is overloaded:"
   ],
   "metadata": {}
  },
  {
   "outputs": [],
   "cell_type": "code",
   "source": [
    "x = [7, 8]\n",
    "A * x"
   ],
   "metadata": {},
   "execution_count": null
  },
  {
   "cell_type": "markdown",
   "source": [
    "We can implement our own version for any types that support `*` and `+` but there are\n",
    "actually two different ways. The most natural mathematical way is as follows:"
   ],
   "metadata": {}
  },
  {
   "outputs": [],
   "cell_type": "code",
   "source": [
    "function mul_rows(A, x)\n",
    "    m,n = size(A)\n",
    "    # promote_type type finds a type that is compatible with both types, eltype gives the type of the elements of a vector / matrix\n",
    "    T = promote_type(eltype(x), eltype(A))\n",
    "    c = zeros(T, m) # the returned vector, begins of all zeros\n",
    "    for k = 1:m # for each column\n",
    "        for j = 1:n # then each row\n",
    "            c[k] += A[k, j] * x[j] # equivalent to c[k] = c[k] + A[k, j] * x[j]\n",
    "        end\n",
    "    end\n",
    "    c\n",
    "end"
   ],
   "metadata": {},
   "execution_count": null
  },
  {
   "cell_type": "markdown",
   "source": [
    "But we can also change the order of operations to give an alternative approach:"
   ],
   "metadata": {}
  },
  {
   "outputs": [],
   "cell_type": "code",
   "source": [
    "function mul_cols(A, x)\n",
    "    m,n = size(A)\n",
    "    # promote_type type finds a type that is compatible with both types, eltype gives the type of the elements of a vector / matrix\n",
    "    T = promote_type(eltype(x), eltype(A))\n",
    "    c = zeros(T, m) # the returned vector, begins of all zeros\n",
    "    for j = 1:n # for each column\n",
    "        xⱼ = x[j]\n",
    "        for k = 1:m # then each row\n",
    "            c[k] += A[k, j] * xⱼ # equivalent to c[k] = c[k] + A[k, j] * x[j]\n",
    "        end\n",
    "    end\n",
    "    c\n",
    "end"
   ],
   "metadata": {},
   "execution_count": null
  },
  {
   "cell_type": "markdown",
   "source": [
    "Both implementations match _exactly_ for integer inputs:"
   ],
   "metadata": {}
  },
  {
   "outputs": [],
   "cell_type": "code",
   "source": [
    "mul_rows(A, x), mul_cols(A, x) # also matches `A*x`"
   ],
   "metadata": {},
   "execution_count": null
  },
  {
   "cell_type": "markdown",
   "source": [
    "Either implementation will be $O(mn)$ operations. However, the implementation\n",
    "`mul_cols` accesses the entries of `A` going down the column,\n",
    "which happens to be _significantly faster_ than `mul_rows`, due to accessing\n",
    "memory of `A` in order. We can see this by measuring the time it takes using `@btime`:"
   ],
   "metadata": {}
  },
  {
   "outputs": [],
   "cell_type": "code",
   "source": [
    "n = 1000\n",
    "A = randn(n,n) # create n x n matrix with random normal entries\n",
    "x = randn(n) # create length n vector with random normal entries\n",
    "\n",
    "using BenchmarkTools # load package for reliable timing\n",
    "@btime mul_rows(A,x)\n",
    "@btime mul_cols(A,x)\n",
    "@btime A*x; # built-in, high performance implementation. USE THIS in practice"
   ],
   "metadata": {},
   "execution_count": null
  },
  {
   "cell_type": "markdown",
   "source": [
    "Here `ms` means milliseconds (`0.001 = 10^(-3)` seconds) and `μs` means microseconds (`0.000001 = 10^(-6)` seconds).\n",
    "So we observe that `mul` is roughly 3x faster than `mul_rows`, while the optimised `*` is roughly 5x faster than `mul`.\n",
    "The reason why isn't too important for us (accessing memory in order is much faster than jumping around), but the key points are:\n",
    "1. Making fast algorithms is delicate and arguably more of an art than a science.\n",
    "2. We can focus on complexity rather than counting operations as the latter does not tell us speed.\n",
    "3. Use in-built implementations whenever available."
   ],
   "metadata": {}
  },
  {
   "cell_type": "markdown",
   "source": [
    "Note that the rules of floating point arithmetic apply here: matrix multiplication with floats\n",
    "will incur round-off error (the precise details of which are subject to the implementation):"
   ],
   "metadata": {}
  },
  {
   "outputs": [],
   "cell_type": "code",
   "source": [
    "A = [1.4 0.4;\n",
    "     2.0 1/2]\n",
    "A * [1, -1] # First entry has round-off error, but 2nd entry is exact"
   ],
   "metadata": {},
   "execution_count": null
  },
  {
   "cell_type": "markdown",
   "source": [
    "And integer arithmetic will be subject to overflow:"
   ],
   "metadata": {}
  },
  {
   "outputs": [],
   "cell_type": "code",
   "source": [
    "A = fill(Int8(2^6), 2, 2) # make a matrix whose entries are all equal to 2^6\n",
    "A * Int8[1,1] # we have overflowed and get a negative number -2^7"
   ],
   "metadata": {},
   "execution_count": null
  },
  {
   "cell_type": "markdown",
   "source": [
    "Solving a linear system is done using `\\`:"
   ],
   "metadata": {}
  },
  {
   "outputs": [],
   "cell_type": "code",
   "source": [
    "A = [1 2 3;\n",
    "     1 2 4;\n",
    "     3 7 8]\n",
    "b = [10; 11; 12]\n",
    "A \\ b"
   ],
   "metadata": {},
   "execution_count": null
  },
  {
   "cell_type": "markdown",
   "source": [
    "Despite the answer being integer-valued,\n",
    "here we see that it resorted to using floating point arithmetic,\n",
    "incurring rounding error.\n",
    "But it is \"accurate to (roughly) 16-digits\".\n",
    "As we shall see, the way solving a linear system works is we first write `A` as a\n",
    "product of matrices that are easy to invert, e.g., a product of triangular matrices or a product of an orthogonal\n",
    "and triangular matrix."
   ],
   "metadata": {}
  },
  {
   "cell_type": "markdown",
   "source": [
    "The following problem compares the behaviour of `mul_cols` defined in lectures\n",
    "to the inbuilt matrix-vector multiplication operation `A*x`. The point is that\n",
    "sometimes the choice of algorithm, despite being mathematically equivalent, can change the exact results\n",
    "when using floating point."
   ],
   "metadata": {}
  },
  {
   "cell_type": "markdown",
   "source": [
    "### III.1.2 Triangular Matrices"
   ],
   "metadata": {}
  },
  {
   "cell_type": "markdown",
   "source": [
    "Triangular matrices are represented by dense square matrices where the entries below the\n",
    "diagonal are ignored:"
   ],
   "metadata": {}
  },
  {
   "outputs": [],
   "cell_type": "code",
   "source": [
    "A = [1 2 3;\n",
    "     4 5 6;\n",
    "     7 8 9]\n",
    "L = LowerTriangular(A)"
   ],
   "metadata": {},
   "execution_count": null
  },
  {
   "cell_type": "markdown",
   "source": [
    "We can see that `L` is storing all the entries of `A` in a field called `data`:"
   ],
   "metadata": {}
  },
  {
   "outputs": [],
   "cell_type": "code",
   "source": [
    "L.data"
   ],
   "metadata": {},
   "execution_count": null
  },
  {
   "cell_type": "markdown",
   "source": [
    "Similarly we can create an upper triangular matrix by ignoring the entries below the diagonal:"
   ],
   "metadata": {}
  },
  {
   "outputs": [],
   "cell_type": "code",
   "source": [
    "U = UpperTriangular(A)"
   ],
   "metadata": {},
   "execution_count": null
  },
  {
   "cell_type": "markdown",
   "source": [
    "If we know a matrix is triangular we can do matrix-vector multiplication in roughly half\n",
    "the number of operations by skipping over the entries we know are zero:"
   ],
   "metadata": {}
  },
  {
   "outputs": [],
   "cell_type": "code",
   "source": [
    "function mul_cols(L::LowerTriangular, x)\n",
    "    n = size(L,1)\n",
    "    # promote_type type finds a type that is compatible with both types, eltype gives the type of the elements of a vector / matrix\n",
    "    T = promote_type(eltype(x),eltype(L))\n",
    "    b = zeros(T, n) # the returned vector, begins of all zeros\n",
    "    for j = 1:n\n",
    "        xⱼ = x[j]\n",
    "        for k = j:n # k = j:n instead of 1:n since we know L[k,j] = 0 if k < j.\n",
    "            b[k] += L[k, j] * xⱼ\n",
    "        end\n",
    "    end\n",
    "    b\n",
    "end\n",
    "\n",
    "x = [10, 11, 12]\n",
    "# matches built-in * which also exploits the structure:\n",
    "@test mul_cols(L, x) == L*x"
   ],
   "metadata": {},
   "execution_count": null
  },
  {
   "cell_type": "markdown",
   "source": [
    "Moreover, we can easily invert matrices.\n",
    "Consider a simple 3×3 example, which can be solved with `\\`:"
   ],
   "metadata": {}
  },
  {
   "outputs": [],
   "cell_type": "code",
   "source": [
    "b = [5, 6, 7]\n",
    "x = L \\ b # Excercise: why does this return a float vector?"
   ],
   "metadata": {},
   "execution_count": null
  },
  {
   "cell_type": "markdown",
   "source": [
    "Behind the seens, `\\` is doing forward-elimination.\n",
    "We can implement our own version for any types that support `*`, `+` and `/` as follows:"
   ],
   "metadata": {}
  },
  {
   "outputs": [],
   "cell_type": "code",
   "source": [
    "function ldiv(L::LowerTriangular, b)\n",
    "    n = size(L,1)\n",
    "\n",
    "    if length(b) != n\n",
    "        error(\"The system is not compatible\")\n",
    "    end\n",
    "\n",
    "    x = zeros(n)  # the solution vector\n",
    "    for k = 1:n  # start with k = 1\n",
    "        r = b[k]  # dummy variable\n",
    "        for j = 1:k-1\n",
    "            r -= L[k,j]*x[j]\n",
    "        end\n",
    "        x[k] = r/L[k,k]\n",
    "    end\n",
    "    x\n",
    "end\n",
    "\n",
    "\n",
    "@test ldiv(L, b) ≈ L\\b"
   ],
   "metadata": {},
   "execution_count": null
  },
  {
   "cell_type": "markdown",
   "source": [
    "------"
   ],
   "metadata": {}
  },
  {
   "cell_type": "markdown",
   "source": [
    "**Problem 3(a)** Complete the following function for upper triangular matrix-vector\n",
    "multiplication without ever accessing the zero entries of `L` above the diagonal.\n",
    "Hint: just copy code for `mul_cols` and modify the for-loop ranges a la the `UpperTriangular`\n",
    "case."
   ],
   "metadata": {}
  },
  {
   "outputs": [],
   "cell_type": "code",
   "source": [
    "function mul_cols(U::UpperTriangular, x)\n",
    "    n = size(U,1)\n",
    "\n",
    "    # promote_type type finds a type that is compatible with both types, eltype gives the type of the elements of a vector / matrix\n",
    "    T = promote_type(eltype(x),eltype(U))\n",
    "    b = zeros(T,n) # the returned vector, begins of all zeros\n",
    "\n",
    "    # TODO: populate b so that U*x ≈ b\n",
    "\n",
    "\n",
    "    b\n",
    "end\n",
    "\n",
    "U = UpperTriangular(randn(5,5))\n",
    "x = randn(5)\n",
    "@test U*x ≈ mul_cols(L, x)"
   ],
   "metadata": {},
   "execution_count": null
  },
  {
   "cell_type": "markdown",
   "source": [
    "**Problem 3(b)** Complete the following function for solving linear systems with\n",
    "upper triangular systems by implementing back-substitution. You may assume\n",
    "all input and output vectors have `Float64` values."
   ],
   "metadata": {}
  },
  {
   "outputs": [],
   "cell_type": "code",
   "source": [
    "# ldiv(U, b) is our implementation of U\\b\n",
    "function ldiv(U::UpperTriangular, b)\n",
    "    n = size(U,1)\n",
    "\n",
    "    if length(b) != n\n",
    "        error(\"The system is not compatible\")\n",
    "    end\n",
    "\n",
    "    x = zeros(n)  # the solution vector\n",
    "    # TODO: populate x with the entries according to back substitution.\n",
    "\n",
    "    x\n",
    "end\n",
    "\n",
    "\n",
    "U = UpperTriangular(randn(5,5))\n",
    "b = randn(5)\n",
    "@test U\\b ≈ ldiv(U, b)"
   ],
   "metadata": {},
   "execution_count": null
  },
  {
   "cell_type": "markdown",
   "source": [
    "## III.1.3 Banded matrices"
   ],
   "metadata": {}
  },
  {
   "cell_type": "markdown",
   "source": [
    "Diagonal matrices in Julia are stored as a vector containing the diagonal entries:"
   ],
   "metadata": {}
  },
  {
   "outputs": [],
   "cell_type": "code",
   "source": [
    "x = [1,2,3]\n",
    "D = Diagonal(x) # the type Diagonal has a single field: D.diag"
   ],
   "metadata": {},
   "execution_count": null
  },
  {
   "cell_type": "markdown",
   "source": [
    "It is clear that we can perform diagonal-vector multiplications and solve linear systems involving diagonal matrices efficiently\n",
    "(in $O(n)$ operations)."
   ],
   "metadata": {}
  },
  {
   "cell_type": "markdown",
   "source": [
    "We can create Bidiagonal matrices in Julia by specifying the diagonal and off-diagonal:"
   ],
   "metadata": {}
  },
  {
   "outputs": [],
   "cell_type": "code",
   "source": [
    "L = Bidiagonal([1,2,3], [4,5], :L) # the type Bidiagonal has three fields: L.dv (diagonal), L.ev (lower-diagonal), L.uplo (either 'L', 'U')\n",
    "#\n",
    "Bidiagonal([1,2,3], [4,5], :U)"
   ],
   "metadata": {},
   "execution_count": null
  },
  {
   "cell_type": "markdown",
   "source": [
    "Multiplication and solving linear systems with Bidiagonal systems is also $O(n)$ operations, using the standard\n",
    "multiplications/back-substitution algorithms but being careful in the loops to only access the non-zero entries."
   ],
   "metadata": {}
  },
  {
   "cell_type": "markdown",
   "source": [
    "Julia has a type `Tridiagonal` for representing a tridiagonal matrix from its sub-diagonal, diagonal, and super-diagonal:"
   ],
   "metadata": {}
  },
  {
   "outputs": [],
   "cell_type": "code",
   "source": [
    "T = Tridiagonal([1,2], [3,4,5], [6,7]) # The type Tridiagonal has three fields: T.dl (sub), T.d (diag), T.du (super)"
   ],
   "metadata": {},
   "execution_count": null
  },
  {
   "cell_type": "markdown",
   "source": [
    "Tridiagonal matrices will come up in solving second-order differential equations and orthogonal polynomials.\n",
    "We will later see how linear systems involving tridiagonal matrices can be solved in $O(n)$ operations."
   ],
   "metadata": {}
  },
  {
   "cell_type": "markdown",
   "source": [
    "-----"
   ],
   "metadata": {}
  },
  {
   "cell_type": "markdown",
   "source": [
    "**Problem 4(a)** Complete the implementation of `UpperTridiagonal` which represents a banded matrix with\n",
    "bandwidths $(l,u) = (0,2)$ by overloading `getindex(U::UpperTridiagonal, k::Int, j::Int)` (which implements `U[k,j]`) and `setindex!(U::UpperTriangular, v, k::Int, j::Int)` (which implements `U[k,j] = v`). Return zero (of the same type as the other entries)\n",
    "if we are off the bands."
   ],
   "metadata": {}
  },
  {
   "outputs": [],
   "cell_type": "code",
   "source": [
    "struct UpperTridiagonal{T} <: AbstractMatrix{T}\n",
    "    d::Vector{T}   # diagonal entries: d[k] == U[k,k]\n",
    "    du::Vector{T}  # super-diagonal enries: du[k] == U[k,k+1]\n",
    "    du2::Vector{T} # second-super-diagonal entries: du2[k] == U[k,k+2]\n",
    "end\n",
    "\n",
    "# This uses the notation `<: AbstractMatrix{T}`: this tells Julia that our type is in fact a matrix.\n",
    "# In order for it to behave a matrix we have to overload the function `size` for our type to return\n",
    "# the dimensions (in this case we just use the length of the diagonal):\n",
    "\n",
    "import Base: size, getindex\n",
    "\n",
    "size(U::UpperTridiagonal) = (length(U.d),length(U.d))\n",
    "\n",
    "# Julia still doesn't know what the entries of the matrix are. To do this we need to overload `getindex`.\n",
    "# We also overload `setindex!` to allow changing the non-zero entries.\n",
    "\n",
    "\n",
    "# getindex(U, k, j) is another way to write U[k,j].\n",
    "# This function will therefore be called when we call U[k,j]\n",
    "function getindex(U::UpperTridiagonal, k::Int, j::Int)\n",
    "    d,du,du2 = U.d,U.du,U.du2\n",
    "    # TODO: return U[k,j]\n",
    "\n",
    "end\n",
    "\n",
    "# setindex!(U, v, k, j) gets called when we write (U[k,j] = v).\n",
    "function setindex!(U::UpperTridiagonal, v, k::Int, j::Int)\n",
    "    d,du,du2 = U.d,U.du,U.du2\n",
    "    if j > k+2 || j < k\n",
    "        error(\"Cannot modify off-band\")\n",
    "    end\n",
    "\n",
    "    # TODO: modify d,du,du2 so that U[k,j] == v\n",
    "\n",
    "    U # by convention we return the matrix\n",
    "end\n",
    "\n",
    "U = UpperTridiagonal([1,2,3,4,5], [1,2,3,4], [1,2,3])\n",
    "@test U == [1 1 1 0 0;\n",
    "            0 2 2 2 0;\n",
    "            0 0 3 3 3;\n",
    "            0 0 0 4 4;\n",
    "            0 0 0 0 5]\n",
    "\n",
    "U[3,4] = 2\n",
    "@test U == [1 1 1 0 0;\n",
    "            0 2 2 2 0;\n",
    "            0 0 3 2 3;\n",
    "            0 0 0 4 4;\n",
    "            0 0 0 0 5]"
   ],
   "metadata": {},
   "execution_count": null
  },
  {
   "cell_type": "markdown",
   "source": [
    "**Problem 4(b)** Complete the following implementations of `*` and `\\` for `UpperTridiagonal` so that\n",
    "they take only $O(n)$ operations. Hint: the function `max(a,b)` returns the larger of `a` or `b`\n",
    "and `min(a,b)` returns the smaller. They may help to avoid accessing zeros."
   ],
   "metadata": {}
  },
  {
   "outputs": [],
   "cell_type": "code",
   "source": [
    "function *(U::UpperTridiagonal, x::AbstractVector)\n",
    "    n = size(U,1)\n",
    "    # promote_type type finds a type that is compatible with both types, eltype gives the type of the elements of a vector / matrix\n",
    "    T = promote_type(eltype(x),eltype(U))\n",
    "    b = zeros(T, n) # the returned vector, begins of all zeros\n",
    "    # TODO: populate b so that U*x ≈ b (up to rounding)\n",
    "\n",
    "    b\n",
    "end\n",
    "\n",
    "function \\(U::UpperTridiagonal, b::AbstractVector)\n",
    "    n = size(U,1)\n",
    "    T = promote_type(eltype(b),eltype(U))\n",
    "\n",
    "    if length(b) != n\n",
    "        error(\"The system is not compatible\")\n",
    "    end\n",
    "\n",
    "    x = zeros(T, n)  # the solution vector\n",
    "    # TODO: populate x so that U*x ≈ b\n",
    "\n",
    "    x\n",
    "end\n",
    "\n",
    "n = 1_000_000 # under-scores are like commas: so this is a million: 1,000,000\n",
    "U = UpperTridiagonal(ones(n), fill(0.5,n-1), fill(0.1,n-2))\n",
    "x = ones(n)\n",
    "b = [fill(1.6,n-2); 1.5; 1] # exact result\n",
    "# note following should take much less than a second\n",
    "@test U*x ≈ b\n",
    "@test U\\b ≈ x"
   ],
   "metadata": {},
   "execution_count": null
  },
  {
   "cell_type": "markdown",
   "source": [
    "## III.2 Differential Equations via Finite Differences"
   ],
   "metadata": {}
  },
  {
   "cell_type": "markdown",
   "source": [
    "We now turn to an important application of banded linear algebra:\n",
    "approximating solutions to linear differential equations. We will focus on first and second order\n",
    "but the techniques generalise beyond this, to vector problems, nonlinear differential equations, and partial differential equations."
   ],
   "metadata": {}
  },
  {
   "cell_type": "markdown",
   "source": [
    "We explore _finite difference_ approxiamtions which use divided differences to replace derivatives.\n",
    "These are the most basic type of numerical method and many powerful alternatives\n",
    "exist, including Finite Element Methods and spectral methods."
   ],
   "metadata": {}
  },
  {
   "cell_type": "markdown",
   "source": [
    "### III.2.1 Indefinite integration"
   ],
   "metadata": {}
  },
  {
   "cell_type": "markdown",
   "source": [
    "We can use the right-sided divided difference to approximate derivatives.  Let's do an example of integrating $\\cos x$ by discretising the ODE\n",
    "$$\n",
    " u'(x) = f(x), u(0) = c\n",
    "$$\n",
    "as\n",
    "and see if our method matches\n",
    "the true answer of $\\sin x$. Recall from the notes that this equation can be approximated by $u_k$ solving the bidiagonal linear system\n",
    "$$\n",
    "\\begin{bmatrix}\n",
    "    1 \\\\\n",
    "    -1/h & 1/h \\\\\n",
    "    & ⋱ & ⋱ \\\\\n",
    "    && -1/h & 1/h \\end{bmatrix} \\Vectt[u_0,u_1,⋮,u_n] = \\Vectt[c, f(x_0), f(x_1), ⋮ , f(x_{n-1})].\n",
    "$$\n",
    "We can construct the bidiagonal matrix as follows:"
   ],
   "metadata": {}
  },
  {
   "outputs": [],
   "cell_type": "code",
   "source": [
    "n = 10\n",
    "x = range(0, 1; length=n+1) # makes an n+1 point evenly spaced grid\n",
    "h = step(x) # equivalent to 1/n\n",
    "L = Bidiagonal([1; fill(1/h, n)], fill(-1/h, n), :L)"
   ],
   "metadata": {},
   "execution_count": null
  },
  {
   "cell_type": "markdown",
   "source": [
    "We can use this bidiagonal matrix along with `\\` to solve the\n",
    "system via Forward elimination:"
   ],
   "metadata": {}
  },
  {
   "outputs": [],
   "cell_type": "code",
   "source": [
    "c = 0 # u(0) = 0\n",
    "f = x -> cos(x)\n",
    "\n",
    "𝐟 = f.(x[1:end-1]) # evaluate f at all but the last point\n",
    "𝐮 = L \\ [c; 𝐟] # integrate using forward-differences\n",
    "\n",
    "plot(x, sin.(x); label=\"sin(x)\", legend=:bottomright)\n",
    "scatter!(x, 𝐮ᶠ; label=\"forward\")"
   ],
   "metadata": {},
   "execution_count": null
  },
  {
   "cell_type": "markdown",
   "source": [
    " We can estimate how fast it converges by measuring\n",
    "the ∞-norm error (using $\\| 𝐱 \\|_∞ := \\max |x_k|$ which\n",
    "is implemented as `norm(x,Inf)`):"
   ],
   "metadata": {}
  },
  {
   "outputs": [],
   "cell_type": "code",
   "source": [
    "# Error from indefinite integration with c and f\n",
    "function forward_err(u, c, f, n)\n",
    "    x = range(0, 1; length = n+1)\n",
    "    h = step(x) # equivalent to 1/n\n",
    "    L = Bidiagonal([1; fill(1/h, n)], fill(-1/h, n), :L)\n",
    "    𝐮 = L\\ [c; f.(x[1:end-1])]\n",
    "    errs = 𝐮 - u.(x) # compare numerics with \"true\" result\n",
    "    norm(errs, Inf) # measure ∞-norm error\n",
    "end\n",
    "\n",
    "\n",
    "ns = 10 .^ (1:8) # solve up to n = 10 million\n",
    "scatter(ns, forward_err.(sin, 0, f, ns); xscale=:log10, yscale=:log10, label=\"forward\")\n",
    "plot!(ns, ns .^ (-1); label=\"1/n\")"
   ],
   "metadata": {},
   "execution_count": null
  },
  {
   "cell_type": "markdown",
   "source": [
    "We see that the method converges linearly (like $O(n^{-1})$)."
   ],
   "metadata": {}
  },
  {
   "cell_type": "markdown",
   "source": [
    "------"
   ],
   "metadata": {}
  },
  {
   "cell_type": "markdown",
   "source": [
    "**Problem 5(a)** Implement Backward Euler as derived in the problem sheet to approximate\n",
    "indefinite-integration. How does the error compare to forward\n",
    "for $f(x) = \\cos x$ on the interval $[0,1]$?\n",
    "Use the method to approximate the indefinite intergral of\n",
    "$$\n",
    "\\exp(\\exp x \\cos x + \\sin x)\n",
    "$$\n",
    "to 3 digits."
   ],
   "metadata": {}
  },
  {
   "outputs": [],
   "cell_type": "code",
   "source": [
    "# TODO: Implement Backward Euler by constructing a lower bidiagonal linear system."
   ],
   "metadata": {},
   "execution_count": null
  },
  {
   "cell_type": "markdown",
   "source": [
    "**Problem 5(b)** Implement indefinite-integration\n",
    "where we impose the equation on the midpoints $m_1,…,m_n$ defined as\n",
    "$$\n",
    "m_j = (x_{j+1} + x_j)/2 = a + (j+1/2)h\n",
    "$$\n",
    "using the central difference formula\n",
    "$$\n",
    "u'(m_j) ≈ {u(x_j) - u(x_{j-1}) \\over h}\n",
    "$$\n",
    "By plotting the errors show that this method converges at\n",
    "a faster rate than Forward or Backward Euler for $f(x) = \\cos x$ on the interval $[0,1]$."
   ],
   "metadata": {}
  },
  {
   "outputs": [],
   "cell_type": "code",
   "source": [
    "# TODO:"
   ],
   "metadata": {},
   "execution_count": null
  },
  {
   "cell_type": "markdown",
   "source": [
    "----"
   ],
   "metadata": {}
  },
  {
   "cell_type": "markdown",
   "source": [
    "### III.2.2 Forward Euler"
   ],
   "metadata": {}
  },
  {
   "cell_type": "markdown",
   "source": [
    "Here is a simple example for solving:\n",
    "    $$\n",
    "    u'(0) = 1, u' + t u = {\\rm e}^t\n",
    "    $$\n",
    "    which has an exact solution in terms of a special error function\n",
    "    (which we determined using Mathematica)."
   ],
   "metadata": {}
  },
  {
   "outputs": [],
   "cell_type": "code",
   "source": [
    "using SpecialFunctions\n",
    "c = 1\n",
    "a = t -> t\n",
    "n = 2000\n",
    "t = range(0, 1; length=n)\n",
    "# exact solution, found in Mathematica\n",
    "u = t -> -(1/2)*exp(-(1+t^2)/2)*(-2sqrt(ℯ) + sqrt(2π)erfi(1/sqrt(2)) - sqrt(2π)erfi((1 + t)/sqrt(2)))\n",
    "\n",
    "h = step(t)\n",
    "L = Bidiagonal([1; fill(1/h, n-1)], a.(t[1:end-1]) .- 1/h, :L)\n",
    "\n",
    "norm(L \\ [c; exp.(t[1:end-1])] - u.(t),Inf)"
   ],
   "metadata": {},
   "execution_count": null
  },
  {
   "cell_type": "markdown",
   "source": [
    "We see that it is converging to the true result."
   ],
   "metadata": {}
  },
  {
   "cell_type": "markdown",
   "source": [
    "----"
   ],
   "metadata": {}
  },
  {
   "cell_type": "markdown",
   "source": [
    "**Problem  6** Implement backward Euler for solving:\n",
    "$$\n",
    "\\begin{align*}\n",
    "u(0) &= 1, u'(t) - \\cos(t) u(t) = t\n",
    "\\end{align*}\n",
    "$$\n",
    "If we increase the initial condition $w(0) = c > 1$, $w'(0)$\n",
    "the solution may blow up in finite time. Find the smallest positive integer $c$\n",
    "such that the numerical approximation suggests the equation\n",
    "does not blow up."
   ],
   "metadata": {}
  },
  {
   "cell_type": "markdown",
   "source": [
    "### III.2.3 Poisson equation"
   ],
   "metadata": {}
  },
  {
   "cell_type": "markdown",
   "source": [
    "Thus we solve:"
   ],
   "metadata": {}
  },
  {
   "outputs": [],
   "cell_type": "code",
   "source": [
    "x = range(0, 1; length = n)\n",
    "h = step(x)\n",
    "T = Tridiagonal([fill(1/h^2, n-2); 0], [1; fill(-2/h^2, n-2); 1], [0; fill(1/h^2, n-2)])\n",
    "u = T \\ [1; exp.(x[2:end-1]); 2]\n",
    "scatter(x, u)"
   ],
   "metadata": {},
   "execution_count": null
  },
  {
   "cell_type": "markdown",
   "source": [
    "We can test convergence on $u(x) = \\cos x^2$ which satisfies\n",
    "$$\n",
    "\\begin{align*}\n",
    "u(0) = 1 \\\\\n",
    "u(1) = \\cos 1 \\\\\n",
    "u''(x) = -4x^2 \\cos(x^2) - 2\\sin(x^2)\n",
    "\\end{align*}\n",
    "$$\n",
    "We observe uniform ($∞$-norm) convergence:"
   ],
   "metadata": {}
  },
  {
   "outputs": [],
   "cell_type": "code",
   "source": [
    "function poisson_err(u, c_0, c_1, f, n)\n",
    "    x = range(0, 1; length = n)\n",
    "    h = step(x)\n",
    "    T = Tridiagonal([fill(1/h^2, n-2); 0], [1; fill(-2/h^2, n-2); 1], [0; fill(1/h^2, n-2)])\n",
    "    uᶠ = T \\ [c_0; f.(x[2:end-1]); c_1]\n",
    "    norm(uᶠ - u.(x), Inf)\n",
    "end\n",
    "\n",
    "u = x -> cos(x^2)\n",
    "f = x -> -4x^2*cos(x^2) - 2sin(x^2)\n",
    "\n",
    "ns = 10 .^ (1:8) # solve up to n = 10 million\n",
    "scatter(ns, poisson_err.(u, 1, cos(1), f, ns); xscale=:log10, yscale=:log10, label=\"error\")\n",
    "plot!(ns, ns .^ (-2); label=\"1/n^2\")"
   ],
   "metadata": {},
   "execution_count": null
  },
  {
   "cell_type": "markdown",
   "source": [
    "**Problem 7** Construct a finite-difference approximation to the\n",
    "forced Helmholtz equation\n",
    "$$\n",
    "\\begin{align*}\n",
    "u(0) &= 0 \\\\\n",
    "u(1) &= 0 \\\\\n",
    "u'' + k^2 u &= {\\rm e}^x\n",
    "\\end{align*}\n",
    "$$\n",
    "and find an $n$ such  the error is less than $10^{-4}$ when compared\n",
    "with the true solution for $k=10$:\n",
    "$$\n",
    "u(x) = (-\\cos(k x) + {\\rm e}^x \\cos(k x)^2 + \\cot(k) \\sin(k x) - {\\rm e} \\cos(k) \\cot(k) \\sin(k x) - {\\rm e} \\sin(k) \\sin(k x) + {\\rm e}^x \\sin(k x)^2)/(1 + k^2)\n",
    "$$"
   ],
   "metadata": {}
  },
  {
   "cell_type": "markdown",
   "source": [
    "**Problem 8** Discretisations can also be used to solve eigenvalue problems.\n",
    "Consider the Schrödinger equation with quadratic oscillator:\n",
    "$$\n",
    "u(-L) = u(L) = 0, -u'' + x^2 u = λ u\n",
    "$$\n",
    "(a) Use the finite-difference approximation to discretise this equation as eigenvalues of a\n",
    "matrix. Hint: write\n",
    "$$\n",
    "\\begin{align*}\n",
    "u(-L) = 0 \\\\\n",
    "-u'' + x^2 u - λu = 0\\\\\n",
    "u(L) = 0\n",
    "\\end{align*}\n",
    "$$\n",
    "and discretise as before, doing row eliminations to arrive at a symmetric tridiagonal\n",
    "matrix eigenvalue problem.\n",
    "(b) Approximate the eigenvalues using `eigvals(A)` (which returns the eigenvalues of a\n",
    "matrix `A`) with $L = 10$.\n",
    "Can you conjecture their exact value if $L = ∞$? Hint: they are integers and the eigenvalues\n",
    "closest to zero are most accurate."
   ],
   "metadata": {}
  },
  {
   "outputs": [],
   "cell_type": "code",
   "source": [
    "# SOLUTION"
   ],
   "metadata": {},
   "execution_count": null
  },
  {
   "cell_type": "markdown",
   "source": [
    "We discretise on a grid $u_1,u_2,…,u_n$ for an evenly spaced grid between $[-L,L]$, with\n",
    "step size $h = 2L/(n-1)$. That is, we have the equations:\n",
    "$$\n",
    "\\begin{bmatrix}\n",
    "1 \\\\\n",
    "-1/h^2 & 2/h^2 + x_2^2  - λ & -1/h^2 \\\\\n",
    "    & ⋱ & ⋱ & ⋱ \\\\\n",
    "    && -1/h^2 &  2/h^2 + x_{n-1}^2  - λ & -1/h^2 \\\\\n",
    "    &&&& 1 \\end{bmatrix}\n",
    "    \\begin{bmatrix} u_1 \\\\ \\vdots \\\\ u_n \\end{bmatrix} = 0\n",
    "$$\n",
    "Row eliminations at the top and bottom reduce this equation to:\n",
    "$$\n",
    "\\begin{bmatrix}\n",
    " 2/h^2 + x_2^2   & -1/h^2 \\\\\n",
    "    & ⋱ & ⋱ & ⋱ \\\\\n",
    "    && -1/h^2 &  2/h^2 + x_{n-1}^2   \\end{bmatrix}\n",
    "    \\begin{bmatrix} u_2 \\\\ \\vdots \\\\ u_{n-1} \\end{bmatrix} = λ\\begin{bmatrix} u_2 \\\\ \\vdots \\\\ u_{n-1} \\end{bmatrix}\n",
    "$$\n",
    "This is a standard eigenvalue problem and we can compute the eigenvalues using `eigvals`:"
   ],
   "metadata": {}
  },
  {
   "outputs": [],
   "cell_type": "code",
   "source": [
    "L = 10\n",
    "n = 1000\n",
    "x = range(-L,L; length=n)\n",
    "h = step(x)\n",
    "eigvals(SymTridiagonal(fill(2/h^2,n-2)  + x[2:end-1].^2, fill(-1/h^2, n-3)))"
   ],
   "metadata": {},
   "execution_count": null
  },
  {
   "cell_type": "markdown",
   "source": [
    "On inspection of the smallest values, it seems that the positive odd integers are the eigenvalues for $L = \\infty$. Increasing $L$ (and also $n$) it becomes more obvious:"
   ],
   "metadata": {}
  },
  {
   "outputs": [],
   "cell_type": "code",
   "source": [
    "L = 100\n",
    "n = 10000\n",
    "x = range(-L,L; length = n)\n",
    "h = step(x)\n",
    "A = SymTridiagonal(x[2:end-1] .^ 2 .+ 2/h^2,ones(n-3)* (-1)/h^2)\n",
    "sort((eigvals(A)))[1:20]"
   ],
   "metadata": {},
   "execution_count": null
  },
  {
   "cell_type": "markdown",
   "source": [
    "---\n",
    "\n",
    "*This notebook was generated using [Literate.jl](https://github.com/fredrikekre/Literate.jl).*"
   ],
   "metadata": {}
  }
 ],
 "nbformat_minor": 3,
 "metadata": {
  "language_info": {
   "file_extension": ".jl",
   "mimetype": "application/julia",
   "name": "julia",
   "version": "1.10.0"
  },
  "kernelspec": {
   "name": "julia-1.10",
   "display_name": "Julia 1.10.0",
   "language": "julia"
  }
 },
 "nbformat": 4
}
