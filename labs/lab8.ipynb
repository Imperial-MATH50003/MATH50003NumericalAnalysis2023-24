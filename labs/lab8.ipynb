{
 "cells": [
  {
   "cell_type": "markdown",
   "source": [
    "# MATH50003 (2023–24)\n",
    "# Revision Lab"
   ],
   "metadata": {}
  },
  {
   "cell_type": "markdown",
   "source": [
    "**Problem 1** Use finite-differences with an appropriately chosen `h`\n",
    "to approximate the derivative in Newton iteration. Does the method still converge with an accurate initial guess?"
   ],
   "metadata": {}
  },
  {
   "cell_type": "markdown",
   "source": [
    "**Problem 2.2** Create a positive `Float64` whose exponent is $q = 156$ and has significand\n",
    "bits\n",
    "$$\n",
    "b_k = \\begin{cases}\n",
    "    1 & k\\hbox{ is prime} \\\\\n",
    "    0 & \\hbox{otherwise}\n",
    "    \\end{cases}\n",
    "$$\n",
    "Hint: use the `gcd` function to determine if a number is prime."
   ],
   "metadata": {}
  },
  {
   "cell_type": "markdown",
   "source": [
    "**Problem 2** Use matrix representations to compute derivatives of $f(x) = 1 + x + x^2$ and $1 + x/3 + x^2$\n",
    "by hand and in Julia.\n",
    "Hint: Use `I` or `one(x)` instead of `1`."
   ],
   "metadata": {}
  },
  {
   "cell_type": "markdown",
   "source": [
    "**Problem 3** Does a `Dual{Dual{T}}` work for second derivatives?"
   ],
   "metadata": {}
  },
  {
   "cell_type": "markdown",
   "source": [
    "**Problem 3.3** Use `Dual` and Newton iteration to find a frequency `ω` such that\n",
    "the heat on a graph with 50 nodes is equal to zero at time $T = 0$ at node $25$, using Forward Euler\n",
    "with 200 time-steps to approximate the solution to the differential equation.\n",
    "(Hint: use `Uᶠ = zeros(typeof(ω), m, n)` to ensure duals are allowed and use an initial guess of\n",
    "`ω = 1`.)"
   ],
   "metadata": {}
  },
  {
   "cell_type": "markdown",
   "source": [
    "**Problem 1** Complete the implementation of a type representing\n",
    "permutation matrices that supports `P[k,j]` in $O(1)$ operations and `*` in $O(n)$ operations,\n",
    "where $n$ is the length of the permutation."
   ],
   "metadata": {}
  },
  {
   "outputs": [],
   "cell_type": "code",
   "source": [
    "struct PermutationMatrix <: AbstractMatrix{Int}\n",
    "    p::Vector{Int} # represents the permutation whose action is v[p]\n",
    "    # This is an internal constructor: allows us to check validity of the input.\n",
    "    function PermutationMatrix(p::Vector)\n",
    "        sort(p) == 1:length(p) || error(\"input is not a valid permutation\")\n",
    "        new(p)\n",
    "    end\n",
    "end\n",
    "\n",
    "function size(P::PermutationMatrix)\n",
    "    (length(P.p),length(P.p))\n",
    "end\n",
    "\n",
    "# getindex(P, k, j) is a synonym for P[k,j]\n",
    "function getindex(P::PermutationMatrix, k::Int, j::Int)\n",
    "    # TODO: Implement P[k,j]\n",
    "\n",
    "end\n",
    "function *(P::PermutationMatrix, x::AbstractVector)\n",
    "    # TODO: return a vector whose entries are permuted according to P.p\n",
    "\n",
    "end\n",
    "\n",
    "# If your code is correct, this \"unit test\" will succeed\n",
    "p = [1, 4, 2, 5, 3]\n",
    "P = PermutationMatrix(p)\n",
    "@test P == I(5)[p,:]\n",
    "\n",
    "n = 100_000\n",
    "p = Vector(n:-1:1) # makes a Vector corresponding to [n,n-1,…,1]\n",
    "P = PermutationMatrix(p)\n",
    "x = randn(n)\n",
    "@test P*x == x[p]"
   ],
   "metadata": {},
   "execution_count": null
  },
  {
   "cell_type": "markdown",
   "source": [
    "---\n",
    "\n",
    "*This notebook was generated using [Literate.jl](https://github.com/fredrikekre/Literate.jl).*"
   ],
   "metadata": {}
  }
 ],
 "nbformat_minor": 3,
 "metadata": {
  "language_info": {
   "file_extension": ".jl",
   "mimetype": "application/julia",
   "name": "julia",
   "version": "1.10.0"
  },
  "kernelspec": {
   "name": "julia-1.10",
   "display_name": "Julia 1.10.0",
   "language": "julia"
  }
 },
 "nbformat": 4
}
