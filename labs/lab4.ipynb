{
 "cells": [
  {
   "cell_type": "markdown",
   "source": [
    "# MATH50003 (2022–23)\n",
    "# Lab 4: II.3 Floating Point Arithmetic and II.4 Interval Arithmetic"
   ],
   "metadata": {}
  },
  {
   "cell_type": "markdown",
   "source": [
    "This lab explores the usage of rounding modes for floating point arithmetic and how they\n",
    "can be used to compute _rigorous_ bounds on mathematical constants such as ℯ.\n",
    "The key idea is _interval arithmetic_.\n",
    "\n",
    "This will be consist of the following:\n",
    "1. The finite Taylor series $\\exp x ≈ ∑_{k=0}^n x^k/k!$ where each operation is now\n",
    "   an interval operation\n",
    "2. A bound on $∑_{k=n+1}^∞ x^k/k!$ that we capture in the returned result\n",
    "\n",
    "We need the following packages:"
   ],
   "metadata": {}
  },
  {
   "outputs": [],
   "cell_type": "code",
   "source": [
    "using SetRounding, Test"
   ],
   "metadata": {},
   "execution_count": null
  },
  {
   "cell_type": "markdown",
   "source": [
    "II.3 Floating Point Arithmetic"
   ],
   "metadata": {}
  },
  {
   "cell_type": "markdown",
   "source": [
    "In Julia, the rounding mode is specified by tags `RoundUp`, `RoundDown`, and\n",
    "`RoundNearest`. (There are also more exotic rounding strategies `RoundToZero`, `RoundNearestTiesAway` and\n",
    "`RoundNearestTiesUp` that we won't use.)"
   ],
   "metadata": {}
  },
  {
   "cell_type": "markdown",
   "source": [
    "## 4. High-precision floating-point numbers"
   ],
   "metadata": {}
  },
  {
   "cell_type": "markdown",
   "source": [
    "It is possible to set the precision of a floating-point number\n",
    "using the `BigFloat` type, which results from the usage of `big`\n",
    "when the result is not an integer.\n",
    "For example, here is an approximation of 1/3 accurate\n",
    "to 77 decimal digits:"
   ],
   "metadata": {}
  },
  {
   "outputs": [],
   "cell_type": "code",
   "source": [
    "big(1)/3"
   ],
   "metadata": {},
   "execution_count": null
  },
  {
   "cell_type": "markdown",
   "source": [
    "Note we can set the rounding mode as in `Float64`, e.g.,\n",
    "this gives (rigorous) bounds on\n",
    "`1/3`:"
   ],
   "metadata": {}
  },
  {
   "outputs": [],
   "cell_type": "code",
   "source": [
    "setrounding(BigFloat, RoundDown) do\n",
    "  big(1)/3\n",
    "end, setrounding(BigFloat, RoundUp) do\n",
    "  big(1)/3\n",
    "end"
   ],
   "metadata": {},
   "execution_count": null
  },
  {
   "cell_type": "markdown",
   "source": [
    "We can also increase the precision, e.g., this finds bounds on `1/3` accurate to\n",
    "more than 1000 decimal places:"
   ],
   "metadata": {}
  },
  {
   "outputs": [],
   "cell_type": "code",
   "source": [
    "setprecision(4_000) do # 4000 bit precision\n",
    "  setrounding(BigFloat, RoundDown) do\n",
    "    big(1)/3\n",
    "  end, setrounding(BigFloat, RoundUp) do\n",
    "    big(1)/3\n",
    "  end\n",
    "end"
   ],
   "metadata": {},
   "execution_count": null
  },
  {
   "cell_type": "markdown",
   "source": [
    "In the labs we shall see how this can be used to rigorously bound ${\\rm e}$,\n",
    "accurate to 1000 digits."
   ],
   "metadata": {}
  },
  {
   "cell_type": "markdown",
   "source": [
    "Let's try rounding a `Float64` to a `Float32`."
   ],
   "metadata": {}
  },
  {
   "outputs": [],
   "cell_type": "code",
   "source": [
    "printlnbits(1/3)  # 64 bits\n",
    "printbits(Float32(1/3))  # round to nearest 32-bit"
   ],
   "metadata": {},
   "execution_count": null
  },
  {
   "cell_type": "markdown",
   "source": [
    "The default rounding mode can be changed:"
   ],
   "metadata": {}
  },
  {
   "outputs": [],
   "cell_type": "code",
   "source": [
    "printbits(Float32(1/3,RoundDown) )"
   ],
   "metadata": {},
   "execution_count": null
  },
  {
   "cell_type": "markdown",
   "source": [
    "Or alternatively we can change the rounding mode for a chunk of code\n",
    "using `setrounding`. The following computes upper and lower bounds for `/`:"
   ],
   "metadata": {}
  },
  {
   "outputs": [],
   "cell_type": "code",
   "source": [
    "x = 1f0\n",
    "setrounding(Float32, RoundDown) do\n",
    "    x/3\n",
    "end,\n",
    "setrounding(Float32, RoundUp) do\n",
    "    x/3\n",
    "end"
   ],
   "metadata": {},
   "execution_count": null
  },
  {
   "cell_type": "markdown",
   "source": [
    "**WARNING (compiled constants, non-examinable)**: Why did we first create a variable `x` instead of typing `1f0/3`?\n",
    "This is due to a very subtle issue where the compiler is _too clever for it's own good_:\n",
    "it recognises `1f0/3` can be computed at compile time, but failed to recognise the rounding mode\n",
    "was changed."
   ],
   "metadata": {}
  },
  {
   "cell_type": "markdown",
   "source": [
    "-----\n",
    "\n",
    "II.4 Interval Arithmetic"
   ],
   "metadata": {}
  },
  {
   "cell_type": "markdown",
   "source": [
    "We will now create a Type to represent an interval, which we will call `Interval`.\n",
    "We need two fields: the left endpoint (`a`) and a right endpoint (`b`):"
   ],
   "metadata": {}
  },
  {
   "outputs": [],
   "cell_type": "code",
   "source": [
    "struct Interval\n",
    "    a\n",
    "    b\n",
    "end"
   ],
   "metadata": {},
   "execution_count": null
  },
  {
   "cell_type": "markdown",
   "source": [
    "For example, if we say `A = Interval(1, 2)` this corresponds to the mathematical interval\n",
    "$[1, 2]$, and the fields are accessed via `A.a` and `A.b`.\n",
    "We will overload `*`, `+`, `-`, `/` to use interval arithmetic. That is, whenever we do arithmetic with\n",
    "an instance of `Interval` we want it to use correctly rounded interval varients.\n",
    "We also need to support `one` (a function that creates an interval containing a single point `1`)\n",
    "and `in` functions (a function to test if a number is within an interval).\n",
    "To overload these functions we need to import them as follows:"
   ],
   "metadata": {}
  },
  {
   "outputs": [],
   "cell_type": "code",
   "source": [
    "import Base: *, +, -, /, one, in"
   ],
   "metadata": {},
   "execution_count": null
  },
  {
   "cell_type": "markdown",
   "source": [
    "We can overload `one` as follows to create an interval corresponding to $[1,1]$.\n",
    "First note that the `one(T)` function will create the \"multiplicative identity\"\n",
    "for a given type. For example `one(Int)` will return `1`, `one(Float64)` returns `1.0`,\n",
    "and `one(String)` returns \"\" (because `\"\" * \"any string\" == \"any string\"`):"
   ],
   "metadata": {}
  },
  {
   "outputs": [],
   "cell_type": "code",
   "source": [
    "one(Int), one(Int64), one(String)"
   ],
   "metadata": {},
   "execution_count": null
  },
  {
   "cell_type": "markdown",
   "source": [
    "We can also just call it on an instance of the type:"
   ],
   "metadata": {}
  },
  {
   "outputs": [],
   "cell_type": "code",
   "source": [
    "one(2), one(2.0), one(\"any string\")"
   ],
   "metadata": {},
   "execution_count": null
  },
  {
   "cell_type": "markdown",
   "source": [
    "For an interval the multiplicative identity is the interval whose lower and upper limit are both 1.\n",
    "To ensure its the right type we call `one(A.a)` and `one(A.b)`"
   ],
   "metadata": {}
  },
  {
   "outputs": [],
   "cell_type": "code",
   "source": [
    "one(A::Interval) = Interval(one(A.a), one(A.b))"
   ],
   "metadata": {},
   "execution_count": null
  },
  {
   "cell_type": "markdown",
   "source": [
    "Thus the following returns an interval whose endpoints are both `1.0`:"
   ],
   "metadata": {}
  },
  {
   "outputs": [],
   "cell_type": "code",
   "source": [
    "one(Interval(2.0,3.3))"
   ],
   "metadata": {},
   "execution_count": null
  },
  {
   "cell_type": "markdown",
   "source": [
    "Now if `A = Interval(a,b)` this corresponds to the mathematical interval $[a,b]$.\n",
    "And a real number $x ∈ [a,b]$ iff $a ≤ x ≤ b$. In Julia the endpoints $a$ and $b$ are accessed\n",
    "via $A.a$ and $B.b$ hence the above test becomes `A.a ≤ x ≤ A.b`. Thus we overload `in`\n",
    "as follows:"
   ],
   "metadata": {}
  },
  {
   "outputs": [],
   "cell_type": "code",
   "source": [
    "in(x, A::Interval) = A.a ≤ x ≤ A.b"
   ],
   "metadata": {},
   "execution_count": null
  },
  {
   "cell_type": "markdown",
   "source": [
    "The function `in` is whats called an \"infix\" operation (just like `+`, `-`, `*`, and `/`). We can call it\n",
    "either as `in(x, A)` or put the `in` in the middle and write `x in A`. This can be seen in the following:"
   ],
   "metadata": {}
  },
  {
   "outputs": [],
   "cell_type": "code",
   "source": [
    "A = Interval(2.0,3.3)\n",
    "# 2.5 in A is equivalent to in(2.5, A)\n",
    "# !(3.4 in A) is equivalent to !in(3.4, A)\n",
    "2.5 in A, !(3.4 in A)"
   ],
   "metadata": {},
   "execution_count": null
  },
  {
   "cell_type": "markdown",
   "source": [
    "The first problem now is to overload arithmetic operations to do the right thing."
   ],
   "metadata": {}
  },
  {
   "cell_type": "markdown",
   "source": [
    "**Problem 2**  Use the formulae from Problem 1 to complete (by replacing the `# TODO: …` comments with code)\n",
    " the following implementation of an\n",
    "`Interval`\n",
    "so that `+`, `-`, and `/` implement $⊕$, $⊖$, and $⊘$ as defined above."
   ],
   "metadata": {}
  },
  {
   "cell_type": "markdown",
   "source": [
    "Hint: Like `in`, `+` is an infix operation, so if `A isa Interval` and `B isa Interval`\n",
    "then the following function will be called when we call `A + B`.\n",
    "We want it to  implement `⊕` as worked out by hand by replacing the `# TODO` with\n",
    "the correct interval versions. For example, for the first `# TODO`, we know the lower bound of\n",
    "$A + B$ is $a + c$, where $A = [a,b]$ and $B = [c,d]$. But in Julia we access the lower bound of $A$ ($a$)\n",
    "via `A.a` and the lower bound of $B$ via `B.a`.\n",
    "Thus just replace the first `#TODO` with `A.a + B.a`."
   ],
   "metadata": {}
  },
  {
   "cell_type": "markdown",
   "source": [
    "You can probably ignore the `T = promote_type(...)` line for now: it is simply finding the right type\n",
    "to change the rounding mode by finding the \"bigger\" of the type of `A.a` and `B.a`. So in the examples below\n",
    "`T` will just become `Float64`.\n",
    "Finally, the code block\n",
    "```julia\n",
    "setrounding(T, RoundDown) do\n",
    "\n",
    "end\n",
    "```\n",
    "changes the rounding mode of floating point operations corresponding to the type `T` of the CPU, for any code between\n",
    "the `do` and the `end`."
   ],
   "metadata": {}
  },
  {
   "outputs": [],
   "cell_type": "code",
   "source": [
    "function +(A::Interval, B::Interval)\n",
    "    T = promote_type(typeof(A.a), typeof(B.a))\n",
    "    a = setrounding(T, RoundDown) do\n",
    "        # TODO: lower bound\n",
    "\n",
    "    end\n",
    "    b = setrounding(T, RoundUp) do\n",
    "        # TODO: upper bound\n",
    "\n",
    "    end\n",
    "    Interval(a, b)\n",
    "end\n",
    "\n",
    "# following example was the non-associative example but now we have bounds\n",
    "@test Interval(1.1,1.1) + Interval(1.2,1.2) + Interval(1.3,1.3) ≡ Interval(3.5999999999999996, 3.6000000000000005)"
   ],
   "metadata": {},
   "execution_count": null
  },
  {
   "cell_type": "markdown",
   "source": [
    "The following function is called whenever we divide an interval by an `Integer` (think of `Integer` for now\n",
    "a \"superset\" containing all integer types, e.g. `Int8`, `Int`, `UInt8`, etc.). Again we want it to return the\n",
    "set operation ⊘ with correct rounding.\n",
    "Be careful about whether `n` is positive or negative, and you may want to test if `n > 0`. To do so, use an\n",
    "`if-else-end` block:\n",
    "```julia\n",
    "if COND1\n",
    "    # do this if COND1 == true\n",
    "else\n",
    "    # do this if COND1 == false\n",
    "end\n",
    "```"
   ],
   "metadata": {}
  },
  {
   "outputs": [],
   "cell_type": "code",
   "source": [
    "function /(A::Interval, n::Integer)\n",
    "    T = typeof(A.a)\n",
    "    if iszero(n)\n",
    "        error(\"Dividing by zero not support\")\n",
    "    end\n",
    "    a = setrounding(T, RoundDown) do\n",
    "        # TODO: lower bound\n",
    "\n",
    "    end\n",
    "    b = setrounding(T, RoundUp) do\n",
    "        # TODO: upper bound\n",
    "\n",
    "    end\n",
    "    Interval(a, b)\n",
    "end\n",
    "\n",
    "@test Interval(1.0,2.0)/3 ≡ Interval(0.3333333333333333, 0.6666666666666667)\n",
    "@test Interval(1.0,2.0)/(-3) ≡ Interval(-0.6666666666666667, -0.3333333333333333)"
   ],
   "metadata": {},
   "execution_count": null
  },
  {
   "cell_type": "markdown",
   "source": [
    "Now we need to overload `*` to behave like the operation `⊗` defined above.\n",
    "Now you will need to use an if-elseif-else-end block:\n",
    "```julia\n",
    "if COND1\n",
    "  # Do this if COND1 == true\n",
    "elseif COND2\n",
    "  # Do this if COND1 == false and COND2 == true\n",
    "elseif COND3\n",
    "  # Do this if COND1 == COND2 == false and COND3 == true\n",
    "else\n",
    "  # Do this if COND1 == COND2 == COND3 == false\n",
    "end\n",
    "```\n",
    "You will also have to test whether multiple conditions are true.\n",
    "The notation `COND1 && COND2` returns true if `COND1` and `COND2` are both true.\n",
    "The notation `COND1 || COND2` returns true if either `COND1` or `COND2` are true.\n",
    "So for example the statement `0 in A || 0 in B` returns `true` if either interval `A`\n",
    "or `B` contains `0`."
   ],
   "metadata": {}
  },
  {
   "outputs": [],
   "cell_type": "code",
   "source": [
    "function *(A::Interval, B::Interval)\n",
    "    T = promote_type(typeof(A.a), typeof(B.a))\n",
    "    if 0 in A || 0 in B\n",
    "        error(\"Multiplying with intervals containing 0 not supported.\")\n",
    "    end\n",
    "    if A.a > A.b || B.a > B.b\n",
    "        error(\"Empty intervals not supported.\")\n",
    "    end\n",
    "    a = setrounding(T, RoundDown) do\n",
    "        # TODO: lower bound\n",
    "\n",
    "    end\n",
    "    b = setrounding(T, RoundUp) do\n",
    "        # TODO: upper bound\n",
    "\n",
    "    end\n",
    "    Interval(a, b)\n",
    "end\n",
    "\n",
    "@test Interval(1.1, 1.2) * Interval(2.1, 3.1) ≡ Interval(2.31, 3.72)\n",
    "@test Interval(-1.2, -1.1) * Interval(2.1, 3.1) ≡ Interval(-3.72, -2.31)\n",
    "@test Interval(1.1, 1.2) * Interval(-3.1, -2.1) ≡ Interval(-3.72, -2.31)\n",
    "@test Interval(-1.2, -1.1) * Interval(-3.1, -2.1) ≡ Interval(2.31, 3.72)"
   ],
   "metadata": {},
   "execution_count": null
  },
  {
   "cell_type": "markdown",
   "source": [
    "-----"
   ],
   "metadata": {}
  },
  {
   "cell_type": "markdown",
   "source": [
    "The following function  computes the first `n+1` terms of the Taylor series of $\\exp(x)$:\n",
    "$$\n",
    "\\sum_{k=0}^n {x^k \\over k!}\n",
    "$$\n",
    "(similar to the one seen in lectures)."
   ],
   "metadata": {}
  },
  {
   "outputs": [],
   "cell_type": "code",
   "source": [
    "function exp_t(x, n)\n",
    "    ret = one(x) # 1 of same type as x\n",
    "    s = one(x)\n",
    "    for k = 1:n\n",
    "        s = s/k * x\n",
    "        ret = ret + s\n",
    "    end\n",
    "    ret\n",
    "end"
   ],
   "metadata": {},
   "execution_count": null
  },
  {
   "cell_type": "markdown",
   "source": [
    "**Problem 3.1⋆** Bound the tail of the Taylor series for ${\\rm e}^x$ assuming $|x| ≤ 1$.\n",
    "(Hint: ${\\rm e}^x ≤ 3$ for $x ≤ 1$.)"
   ],
   "metadata": {}
  },
  {
   "cell_type": "markdown",
   "source": [
    "**Problem 3.2** Use the bound\n",
    "to write a function `exp_bound` which computes ${\\rm e}^x$ with rigorous error bounds, that is\n",
    "so that when applied to an interval $[a,b]$ it returns an interval that is\n",
    "guaranteed to contain the interval $[{\\rm e}^a, {\\rm e}^b]$."
   ],
   "metadata": {}
  },
  {
   "outputs": [],
   "cell_type": "code",
   "source": [
    "function exp_bound(x::Interval, n)\n",
    "    # TODO: Return an Interval such that exp(x) is guaranteed to be a subset\n",
    "\n",
    "end\n",
    "\n",
    "e_int = exp_bound(Interval(1.0,1.0), 20)\n",
    "@test exp(big(1)) in e_int\n",
    "@test exp(big(-1)) in exp_bound(Interval(-1.0,-1.0), 20)\n",
    "@test e_int.b - e_int.a ≤ 1E-13 # we want our bounds to be sharp"
   ],
   "metadata": {},
   "execution_count": null
  },
  {
   "cell_type": "markdown",
   "source": [
    "------\n",
    "**Problem 4** Use `big` and `setprecision` to compute ℯ to a 1000 decimal digits with\n",
    "rigorous error bounds."
   ],
   "metadata": {}
  },
  {
   "cell_type": "markdown",
   "source": [
    "Hint: The function `big` will create a `BigFloat` version of a `Float64` and the type\n",
    "`BigFloat` allows changing the number of signficand bits. In particular, the code block\n",
    "```julia\n",
    "setprecision(NUMSIGBITS) do\n",
    "\n",
    "end\n",
    "```\n",
    "will use the number of significand bits specified by `NUMSIGBITS` for any `BigFloat` created\n",
    "between the `do` and the `end`."
   ],
   "metadata": {}
  },
  {
   "cell_type": "markdown",
   "source": [
    "---\n",
    "\n",
    "*This notebook was generated using [Literate.jl](https://github.com/fredrikekre/Literate.jl).*"
   ],
   "metadata": {}
  }
 ],
 "nbformat_minor": 3,
 "metadata": {
  "language_info": {
   "file_extension": ".jl",
   "mimetype": "application/julia",
   "name": "julia",
   "version": "1.10.0"
  },
  "kernelspec": {
   "name": "julia-1.10",
   "display_name": "Julia 1.10.0",
   "language": "julia"
  }
 },
 "nbformat": 4
}
